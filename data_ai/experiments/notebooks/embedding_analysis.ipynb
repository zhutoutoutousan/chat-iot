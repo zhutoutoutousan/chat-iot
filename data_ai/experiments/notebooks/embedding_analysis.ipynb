{
  "cells": [
    {
      "cell_type": "raw",
      "metadata": {
        "vscode": {
          "languageId": "raw"
        }
      },
      "source": [
        "# Energy Domain Embedding Analysis\n",
        "\n",
        "This notebook analyzes the performance of our domain-specific embeddings for energy infrastructure data.\n"
      ]
    },
    {
      "cell_type": "code",
      "execution_count": null,
      "metadata": {},
      "outputs": [],
      "source": [
        "import sys\n",
        "sys.path.append('../..')\n",
        "\n",
        "import torch\n",
        "import numpy as np\n",
        "import pandas as pd\n",
        "import matplotlib.pyplot as plt\n",
        "import seaborn as sns\n",
        "from sklearn.manifold import TSNE\n",
        "\n",
        "from src.models.embeddings import EnergyDomainEmbedding\n",
        "from src.data.preprocessing import DocumentProcessor\n",
        "from src.vector_db.milvus_client import MilvusClient\n",
        "from src.utils.metrics import calculate_metrics\n"
      ]
    },
    {
      "cell_type": "raw",
      "metadata": {
        "vscode": {
          "languageId": "raw"
        }
      },
      "source": [
        "## 1. Load Model and Data\n"
      ]
    },
    {
      "cell_type": "code",
      "execution_count": null,
      "metadata": {},
      "outputs": [],
      "source": [
        "# Initialize components\n",
        "model = EnergyDomainEmbedding()\n",
        "processor = DocumentProcessor()\n",
        "db_client = MilvusClient()\n",
        "\n",
        "# Load a trained model if available\n",
        "model_path = '../results/best_model.pt'\n",
        "try:\n",
        "    model.load_state_dict(torch.load(model_path))\n",
        "    print(\"Loaded trained model\")\n",
        "except:\n",
        "    print(\"Using untrained model\")\n",
        "\n",
        "# Set to evaluation mode\n",
        "model.eval()\n"
      ]
    },
    {
      "cell_type": "raw",
      "metadata": {
        "vscode": {
          "languageId": "raw"
        }
      },
      "source": [
        "## 2. Generate Embeddings\n"
      ]
    },
    {
      "cell_type": "code",
      "execution_count": null,
      "metadata": {},
      "outputs": [],
      "source": [
        "# Example texts (replace with your data)\n",
        "texts = [\n",
        "    \"Example energy infrastructure text 1\",\n",
        "    \"Example energy infrastructure text 2\",\n",
        "    # Add more texts\n",
        "]\n",
        "\n",
        "# Process texts\n",
        "processed_data = [processor.process_document(text) for text in texts]\n",
        "chunks = [chunk for doc in processed_data for chunk in doc['chunks']]\n",
        "\n",
        "# Generate embeddings\n",
        "with torch.no_grad():\n",
        "    embeddings = model.encode_batch(chunks)\n",
        "\n",
        "print(f\"Generated {len(embeddings)} embeddings of dimension {embeddings.shape[1]}\")\n"
      ]
    },
    {
      "cell_type": "raw",
      "metadata": {
        "vscode": {
          "languageId": "raw"
        }
      },
      "source": [
        "## 3. Visualize Embeddings\n"
      ]
    },
    {
      "cell_type": "code",
      "execution_count": null,
      "metadata": {},
      "outputs": [],
      "source": [
        "# Reduce dimensionality for visualization\n",
        "tsne = TSNE(n_components=2, random_state=42)\n",
        "embeddings_2d = tsne.fit_transform(embeddings.numpy())\n",
        "\n",
        "# Plot\n",
        "plt.figure(figsize=(12, 8))\n",
        "plt.scatter(embeddings_2d[:, 0], embeddings_2d[:, 1], alpha=0.5)\n",
        "plt.title('t-SNE Visualization of Embeddings')\n",
        "plt.xlabel('Component 1')\n",
        "plt.ylabel('Component 2')\n",
        "plt.show()\n"
      ]
    },
    {
      "cell_type": "raw",
      "metadata": {
        "vscode": {
          "languageId": "raw"
        }
      },
      "source": [
        "## 4. Analyze Similarity Distribution\n"
      ]
    },
    {
      "cell_type": "code",
      "execution_count": null,
      "metadata": {},
      "outputs": [],
      "source": [
        "from torch.nn.functional import cosine_similarity\n",
        "\n",
        "# Calculate similarity matrix\n",
        "sim_matrix = cosine_similarity(embeddings.unsqueeze(1), embeddings.unsqueeze(0))\n",
        "\n",
        "# Plot similarity distribution\n",
        "plt.figure(figsize=(10, 6))\n",
        "sns.histplot(sim_matrix.numpy().flatten(), bins=50)\n",
        "plt.title('Distribution of Cosine Similarities')\n",
        "plt.xlabel('Cosine Similarity')\n",
        "plt.ylabel('Count')\n",
        "plt.show()\n"
      ]
    },
    {
      "cell_type": "raw",
      "metadata": {
        "vscode": {
          "languageId": "raw"
        }
      },
      "source": [
        "## 5. Evaluate Retrieval Performance\n"
      ]
    },
    {
      "cell_type": "code",
      "execution_count": null,
      "metadata": {},
      "outputs": [],
      "source": [
        "# Simulate some queries\n",
        "query_times = []\n",
        "query_results = []\n",
        "\n",
        "for i in range(min(5, len(chunks))):\n",
        "    # Time the query\n",
        "    import time\n",
        "    start_time = time.time()\n",
        "    \n",
        "    # Get query results\n",
        "    results = db_client.search(embeddings[i], top_k=5)\n",
        "    \n",
        "    query_time = time.time() - start_time\n",
        "    query_times.append(query_time)\n",
        "    query_results.append(results)\n",
        "\n",
        "# Calculate metrics\n",
        "metrics = calculate_metrics(\n",
        "    embeddings=embeddings,\n",
        "    query_results=query_results,\n",
        "    query_times=query_times,\n",
        "    chunks=chunks,\n",
        "    original_text=' '.join(texts)\n",
        ")\n",
        "\n",
        "# Display metrics\n",
        "for category, category_metrics in metrics.items():\n",
        "    print(f\"\\n{category.upper()} METRICS:\")\n",
        "    for metric_name, value in category_metrics.items():\n",
        "        print(f\"{metric_name}: {value:.4f}\")\n"
      ]
    },
    {
      "cell_type": "raw",
      "metadata": {
        "vscode": {
          "languageId": "raw"
        }
      },
      "source": [
        "## 6. Language Analysis\n"
      ]
    },
    {
      "cell_type": "code",
      "execution_count": null,
      "metadata": {},
      "outputs": [],
      "source": [
        "# Analyze language distribution\n",
        "languages = [doc['language'] for doc in processed_data]\n",
        "lang_dist = pd.Series(languages).value_counts()\n",
        "\n",
        "plt.figure(figsize=(8, 6))\n",
        "lang_dist.plot(kind='bar')\n",
        "plt.title('Distribution of Languages')\n",
        "plt.xlabel('Language')\n",
        "plt.ylabel('Count')\n",
        "plt.xticks(rotation=45)\n",
        "plt.show()\n"
      ]
    },
    {
      "cell_type": "raw",
      "metadata": {
        "vscode": {
          "languageId": "raw"
        }
      },
      "source": [
        "## 7. Save Results\n"
      ]
    },
    {
      "cell_type": "code",
      "execution_count": null,
      "metadata": {},
      "outputs": [],
      "source": [
        "# Save metrics to CSV\n",
        "metrics_df = pd.DataFrame()\n",
        "for category, category_metrics in metrics.items():\n",
        "    for metric_name, value in category_metrics.items():\n",
        "        metrics_df.loc[category, metric_name] = value\n",
        "\n",
        "metrics_df.to_csv('../results/embedding_metrics.csv')\n",
        "print(\"Saved metrics to embedding_metrics.csv\")\n"
      ]
    }
  ],
  "metadata": {
    "language_info": {
      "name": "python"
    }
  },
  "nbformat": 4,
  "nbformat_minor": 2
}
